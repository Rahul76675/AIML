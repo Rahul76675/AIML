{
 "cells": [
  {
   "cell_type": "code",
   "execution_count": 2,
   "id": "6620a20e-ee0f-433b-90e1-c1751d52011b",
   "metadata": {},
   "outputs": [
    {
     "name": "stdout",
     "output_type": "stream",
     "text": [
      "Breadth-First Search sequence from B to M: ['B', 'K', 'R', 'M']\n"
     ]
    }
   ],
   "source": [
    "from collections import deque\n",
    "\n",
    "def bfs(graph, start, end):\n",
    "    queue = deque([start])\n",
    "    visited = set([start])\n",
    "    parent = {start: None}\n",
    "\n",
    "    while queue:\n",
    "        node = queue.popleft()\n",
    "        if node == end:\n",
    "            break\n",
    "        for neighbor in graph[node]:\n",
    "            if neighbor not in visited:\n",
    "                queue.append(neighbor)\n",
    "                visited.add(neighbor)\n",
    "                parent[neighbor] = node\n",
    "\n",
    "    \n",
    "    path = []\n",
    "    step = end\n",
    "    while step is not None:\n",
    "        path.append(step)\n",
    "        step = parent[step]\n",
    "    path.reverse()\n",
    "\n",
    "    return path\n",
    "\n",
    "\n",
    "graph = {\n",
    "    'B': ['E', 'X', 'K'],\n",
    "    'E': ['P', 'G'],\n",
    "    'P': ['D', 'T'],\n",
    "    'G': [],\n",
    "    'D': [],  \n",
    "    'T': [],  \n",
    "    'X': [],\n",
    "    'K': ['A', 'R'],\n",
    "    'A': ['H'],\n",
    "    'H': [],\n",
    "    'R': ['M'],\n",
    "    'M': []\n",
    "}\n",
    "\n",
    "\n",
    "start_node = 'B'\n",
    "end_node = 'M'\n",
    "bfs_sequence = bfs(graph, start_node, end_node)\n",
    "print(\"Breadth-First Search sequence from {} to {}: {}\".format(start_node, end_node, bfs_sequence))\n"
   ]
  }
 ],
 "metadata": {
  "kernelspec": {
   "display_name": "Python 3 (ipykernel)",
   "language": "python",
   "name": "python3"
  },
  "language_info": {
   "codemirror_mode": {
    "name": "ipython",
    "version": 3
   },
   "file_extension": ".py",
   "mimetype": "text/x-python",
   "name": "python",
   "nbconvert_exporter": "python",
   "pygments_lexer": "ipython3",
   "version": "3.12.4"
  }
 },
 "nbformat": 4,
 "nbformat_minor": 5
}
